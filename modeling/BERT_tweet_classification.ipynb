{
  "nbformat": 4,
  "nbformat_minor": 0,
  "metadata": {
    "colab": {
      "name": "BERT final.ipynb",
      "provenance": [],
      "machine_shape": "hm"
    },
    "kernelspec": {
      "name": "python3",
      "display_name": "Python 3"
    }
  },
  "cells": [
    {
      "cell_type": "markdown",
      "metadata": {
        "id": "o2Mo0ljuNBRM",
        "colab_type": "text"
      },
      "source": [
        "The first few cells will import some libraries and a script. For the most part this is identical to [xhlulu's Kaggle code.](https://www.kaggle.com/xhlulu/disaster-nlp-keras-bert-using-tfhub) The first cell is required if using google colab."
      ]
    },
    {
      "cell_type": "code",
      "metadata": {
        "id": "z2EOfe64FcUh",
        "colab_type": "code",
        "outputId": "79284f55-d042-4a11-e72f-ee9a309474b3",
        "colab": {
          "base_uri": "https://localhost:8080/",
          "height": 224
        }
      },
      "source": [
        "!pip install sentencepiece\n",
        "import nltk\n",
        "nltk.download('stopwords')\n",
        "nltk.download('wordnet')"
      ],
      "execution_count": 1,
      "outputs": [
        {
          "output_type": "stream",
          "text": [
            "Collecting sentencepiece\n",
            "\u001b[?25l  Downloading https://files.pythonhosted.org/packages/98/2c/8df20f3ac6c22ac224fff307ebc102818206c53fc454ecd37d8ac2060df5/sentencepiece-0.1.86-cp36-cp36m-manylinux1_x86_64.whl (1.0MB)\n",
            "\u001b[K     |████████████████████████████████| 1.0MB 2.5MB/s \n",
            "\u001b[?25hInstalling collected packages: sentencepiece\n",
            "Successfully installed sentencepiece-0.1.86\n",
            "[nltk_data] Downloading package stopwords to /root/nltk_data...\n",
            "[nltk_data]   Unzipping corpora/stopwords.zip.\n",
            "[nltk_data] Downloading package wordnet to /root/nltk_data...\n",
            "[nltk_data]   Unzipping corpora/wordnet.zip.\n"
          ],
          "name": "stdout"
        },
        {
          "output_type": "execute_result",
          "data": {
            "text/plain": [
              "True"
            ]
          },
          "metadata": {
            "tags": []
          },
          "execution_count": 1
        }
      ]
    },
    {
      "cell_type": "code",
      "metadata": {
        "id": "gR6-jumvFhr9",
        "colab_type": "code",
        "colab": {}
      },
      "source": [
        "!wget --quiet https://raw.githubusercontent.com/tensorflow/models/master/official/nlp/bert/tokenization.py"
      ],
      "execution_count": 0,
      "outputs": []
    },
    {
      "cell_type": "code",
      "metadata": {
        "id": "75PqQCwcFlji",
        "colab_type": "code",
        "colab": {}
      },
      "source": [
        "import numpy as np\n",
        "import pandas as pd\n",
        "import tensorflow as tf\n",
        "from tensorflow.keras.layers import Dense, Input\n",
        "from tensorflow.keras.optimizers import Adam\n",
        "from tensorflow.keras.models import Model\n",
        "from tensorflow.keras.callbacks import ModelCheckpoint\n",
        "import tensorflow_hub as hub\n",
        "import re\n",
        "from nltk.stem import WordNetLemmatizer\n",
        "from nltk.corpus import stopwords\n",
        "import tokenization\n",
        "\n",
        "data = pd.read_csv('irma_power_tweets.csv')"
      ],
      "execution_count": 0,
      "outputs": []
    },
    {
      "cell_type": "markdown",
      "metadata": {
        "id": "zIZiWN1mNPHm",
        "colab_type": "text"
      },
      "source": [
        "The following four cells are unchanged from the Kaggle code"
      ]
    },
    {
      "cell_type": "code",
      "metadata": {
        "id": "ULdRsYGtFnro",
        "colab_type": "code",
        "colab": {}
      },
      "source": [
        "def bert_encode(texts, tokenizer, max_len=512):\n",
        "    all_tokens = []\n",
        "    all_masks = []\n",
        "    all_segments = []\n",
        "\n",
        "\n",
        "    for text in texts:\n",
        "        text = tokenizer.tokenize(text)\n",
        "           \n",
        "        text = text[:max_len-2]\n",
        "        input_sequence = [\"[CLS]\"] + text + [\"[SEP]\"]\n",
        "        pad_len = max_len - len(input_sequence)\n",
        "        \n",
        "        tokens = tokenizer.convert_tokens_to_ids(input_sequence)\n",
        "        tokens += [0] * pad_len\n",
        "        pad_masks = [1] * len(input_sequence) + [0] * pad_len\n",
        "        segment_ids = [0] * max_len\n",
        "        \n",
        "        all_tokens.append(tokens)\n",
        "        all_masks.append(pad_masks)\n",
        "        all_segments.append(segment_ids)\n",
        "    \n",
        "    return np.array(all_tokens), np.array(all_masks), np.array(all_segments)"
      ],
      "execution_count": 0,
      "outputs": []
    },
    {
      "cell_type": "code",
      "metadata": {
        "id": "mo7LXhGLFrCz",
        "colab_type": "code",
        "colab": {}
      },
      "source": [
        "def build_model(bert_layer, max_len=512):\n",
        "    input_word_ids = Input(shape=(max_len,), dtype=tf.int32, name=\"input_word_ids\")\n",
        "    input_mask = Input(shape=(max_len,), dtype=tf.int32, name=\"input_mask\")\n",
        "    segment_ids = Input(shape=(max_len,), dtype=tf.int32, name=\"segment_ids\")\n",
        "\n",
        "    _, sequence_output = bert_layer([input_word_ids, input_mask, segment_ids])\n",
        "    clf_output = sequence_output[:, 0, :]\n",
        "    out = Dense(1, activation='sigmoid')(clf_output)\n",
        "    \n",
        "    model = Model(inputs=[input_word_ids, input_mask, segment_ids], outputs=out)\n",
        "    model.compile(Adam(lr=2e-6), loss='binary_crossentropy', metrics=['accuracy'])\n",
        "    \n",
        "    return model"
      ],
      "execution_count": 0,
      "outputs": []
    },
    {
      "cell_type": "code",
      "metadata": {
        "id": "ukl7WfAiFtqL",
        "colab_type": "code",
        "outputId": "fff1c3c8-87fd-4ad7-e5a0-4630f5b91f0e",
        "colab": {
          "base_uri": "https://localhost:8080/",
          "height": 54
        }
      },
      "source": [
        "%%time\n",
        "module_url = \"https://tfhub.dev/tensorflow/bert_en_uncased_L-12_H-768_A-12/1\"\n",
        "bert_layer = hub.KerasLayer(module_url, trainable=True)"
      ],
      "execution_count": 6,
      "outputs": [
        {
          "output_type": "stream",
          "text": [
            "CPU times: user 9.77 s, sys: 1.99 s, total: 11.8 s\n",
            "Wall time: 13.1 s\n"
          ],
          "name": "stdout"
        }
      ]
    },
    {
      "cell_type": "code",
      "metadata": {
        "id": "l-N0Z4J_62Nh",
        "colab_type": "code",
        "colab": {}
      },
      "source": [
        "vocab_file = bert_layer.resolved_object.vocab_file.asset_path.numpy()\n",
        "do_lower_case = bert_layer.resolved_object.do_lower_case.numpy()\n",
        "bert_tokenizer = tokenization.FullTokenizer(vocab_file, do_lower_case)"
      ],
      "execution_count": 0,
      "outputs": []
    },
    {
      "cell_type": "markdown",
      "metadata": {
        "id": "VBFUSmUhNXSC",
        "colab_type": "text"
      },
      "source": [
        "This next cell is what separates this notebook from the Kaggle code. The function used to generated neighborhoods is defined. A small lemmatization function is defined and used in the generator function in order to extract a keyword index. The basic BERT tokenizer in conjunction with some regex filtering is used to clean and tokenize the text, again to find the keyword index. Once the keyword index is found, the neighborhood is generated by finding how many tokens to the left and how many tokens to the right to use as the neighborhood. These tokens are joined together with spaces and returned as output."
      ]
    },
    {
      "cell_type": "code",
      "metadata": {
        "id": "x66XjPOMFvMd",
        "colab_type": "code",
        "colab": {}
      },
      "source": [
        "def lemmatize(x):\n",
        "  lemmatizer = WordNetLemmatizer()\n",
        "  return lemmatizer.lemmatize(lemmatizer.lemmatize(x,pos='v'))\n",
        "\n",
        "kwds = 'blackout duke dukeenergy electric electricity fpl outage power'.split()\n",
        "tokenizer = tokenization.BasicTokenizer()\n",
        "\n",
        "def neighborhood_generator(text,kwd):\n",
        "    parse_seq = r'[-_+<=>\\[\\]{}`&;\\/()#!@,.\\n?]|\\x80|\\:\\/\\/.*$'\n",
        "    split_tokens = text.lower().split()\n",
        "    kwd_idx = 0\n",
        "\n",
        "    def tok_process(tok): #remove special chars, apply basic BERT tokenizer, lemmatize, and remove stop words\n",
        "        parse_tok = re.sub(parse_seq, ' ', tok)\n",
        "        tok_tokens = tokenizer.tokenize(parse_tok) #tokens of the token!\n",
        "        tok_lemmatized_tokens = [lemmatize(tok_tok) for tok_tok in tok_tokens]\n",
        "        return tok_lemmatized_tokens\n",
        "\n",
        "    if kwd in split_tokens: #see if we can get away without going through the text processing\n",
        "        kwd_idx = [idx for idx in range(len(split_tokens)) if split_tokens[idx]==kwd][0]\n",
        "    else:\n",
        "        for idx in range(len(split_tokens)):\n",
        "            tok = split_tokens[idx]\n",
        "            tok_lemmatized_tokens = tok_process(tok)\n",
        "            if kwd in tok_lemmatized_tokens:\n",
        "                kwd_idx = idx\n",
        "                break\n",
        "\n",
        "    # found the kwd, now find  words to form neighborhood\n",
        "    # idea: divide the split tokens into two groups: the tokens before kwd, and the tokens after kwd\n",
        "    # starting from the kwd, iterate thru the tokens backwards (before kwd list) or forwards (after kwd list)\n",
        "    # check if the word if a stop word or a special char\n",
        "    # if it isn't, have a counter increase by one. once that counter == radius, save the idx of that word and break\n",
        "    # then slice the string like usual\n",
        "\n",
        "    neighborhood_radius = 1 # change this as you desire!!\n",
        "    before_kwd = split_tokens[:kwd_idx]\n",
        "    after_kwd = split_tokens[kwd_idx+1:]\n",
        "\n",
        "    before_idx = [idx for idx in range(kwd_idx)][::-1]\n",
        "    after_idx = [idx for idx in range(kwd_idx+1,len(split_tokens))]\n",
        "    start_tok_idx = 0 #if search extends beyond startin index, use the first token\n",
        "    end_tok_idx = len(split_tokens) #if search extends beyond last index, use the last index\n",
        "    before_sig_toks = 0\n",
        "    after_sig_toks = 0\n",
        "\n",
        "    for idx in before_idx:\n",
        "        tok = split_tokens[idx]\n",
        "        tok_lemmatized_tokens = tok_process(tok)\n",
        "        if len(tok_lemmatized_tokens) > 0: # significant token\n",
        "            before_sig_toks += 1\n",
        "            if before_sig_toks == neighborhood_radius:\n",
        "                start_tok_idx = idx\n",
        "                break\n",
        "    \n",
        "    for idx in after_idx:\n",
        "        tok = split_tokens[idx]\n",
        "        tok_lemmatized_tokens = tok_process(tok)\n",
        "        if len(tok_lemmatized_tokens) > 0:\n",
        "            after_sig_toks += 1\n",
        "            if after_sig_toks == neighborhood_radius:\n",
        "                end_tok_idx = idx\n",
        "                break\n",
        "\n",
        "    neighborhood = split_tokens[start_tok_idx:end_tok_idx+1]\n",
        "    neighborhood = ' '.join(neighborhood)\n",
        "    \n",
        "    return neighborhood"
      ],
      "execution_count": 0,
      "outputs": []
    },
    {
      "cell_type": "markdown",
      "metadata": {
        "id": "Oxh9u-3ENerk",
        "colab_type": "text"
      },
      "source": [
        "Iterate through all the tweets to generate the neighborhoods."
      ]
    },
    {
      "cell_type": "code",
      "metadata": {
        "id": "UBn2jMFuBC27",
        "colab_type": "code",
        "colab": {}
      },
      "source": [
        "town = pd.DataFrame(columns=['text']) # a town is a collection of neighborhoods\n",
        "neighborhood_vals = []\n",
        "\n",
        "for idx in data.index:\n",
        "  row = data.iloc[idx]\n",
        "  text = row.text\n",
        "  kwd = row.kwd\n",
        "  new_row = neighborhood_generator(text,kwd)\n",
        "  neighborhood_vals.append(new_row)\n",
        "\n",
        "town.text = neighborhood_vals"
      ],
      "execution_count": 0,
      "outputs": []
    },
    {
      "cell_type": "code",
      "metadata": {
        "id": "gu5PX-saIhSQ",
        "colab_type": "code",
        "colab": {}
      },
      "source": [
        "from sklearn.model_selection import train_test_split\n",
        "train, test, train_labels, test_labels = train_test_split(town.text, data.topic_related,\n",
        "                                                          test_size=0.2,\n",
        "                                                          random_state=42)\n",
        "\n",
        "train_input = bert_encode(train, bert_tokenizer, max_len=160)\n",
        "test_input = bert_encode(test, bert_tokenizer, max_len=160)"
      ],
      "execution_count": 0,
      "outputs": []
    },
    {
      "cell_type": "markdown",
      "metadata": {
        "id": "5pt-eQWbNjJE",
        "colab_type": "text"
      },
      "source": [
        "The next three cells are unchanged from the Kaggle code. These blocks build the model and predict the outputs for the data."
      ]
    },
    {
      "cell_type": "code",
      "metadata": {
        "id": "OYjF80BvIjId",
        "colab_type": "code",
        "outputId": "540d1a3a-c5c5-44cb-c1cf-d400f6ef9e2d",
        "colab": {
          "base_uri": "https://localhost:8080/",
          "height": 410
        }
      },
      "source": [
        "model = build_model(bert_layer, max_len=160)\n",
        "model.summary()"
      ],
      "execution_count": 0,
      "outputs": [
        {
          "output_type": "stream",
          "text": [
            "Model: \"model_1\"\n",
            "__________________________________________________________________________________________________\n",
            "Layer (type)                    Output Shape         Param #     Connected to                     \n",
            "==================================================================================================\n",
            "input_word_ids (InputLayer)     [(None, 160)]        0                                            \n",
            "__________________________________________________________________________________________________\n",
            "input_mask (InputLayer)         [(None, 160)]        0                                            \n",
            "__________________________________________________________________________________________________\n",
            "segment_ids (InputLayer)        [(None, 160)]        0                                            \n",
            "__________________________________________________________________________________________________\n",
            "keras_layer (KerasLayer)        [(None, 768), (None, 109482241   input_word_ids[0][0]             \n",
            "                                                                 input_mask[0][0]                 \n",
            "                                                                 segment_ids[0][0]                \n",
            "__________________________________________________________________________________________________\n",
            "tf_op_layer_strided_slice_1 (Te [(None, 768)]        0           keras_layer[1][1]                \n",
            "__________________________________________________________________________________________________\n",
            "dense_1 (Dense)                 (None, 1)            769         tf_op_layer_strided_slice_1[0][0]\n",
            "==================================================================================================\n",
            "Total params: 109,483,010\n",
            "Trainable params: 109,483,009\n",
            "Non-trainable params: 1\n",
            "__________________________________________________________________________________________________\n"
          ],
          "name": "stdout"
        }
      ]
    },
    {
      "cell_type": "code",
      "metadata": {
        "id": "g3JP8ENtIry4",
        "colab_type": "code",
        "outputId": "3fa66352-5297-4abd-98b6-f95375f86ea7",
        "colab": {
          "base_uri": "https://localhost:8080/",
          "height": 124
        }
      },
      "source": [
        "train_history = model.fit(\n",
        "    train_input, train_labels,\n",
        "    validation_split=0.2,\n",
        "    epochs=3,\n",
        "    batch_size=16\n",
        ")"
      ],
      "execution_count": 0,
      "outputs": [
        {
          "output_type": "stream",
          "text": [
            "Epoch 1/3\n",
            "94/94 [==============================] - 946s 10s/step - loss: 0.3806 - accuracy: 0.8043 - val_loss: 0.2992 - val_accuracy: 0.8773\n",
            "Epoch 2/3\n",
            "94/94 [==============================] - 940s 10s/step - loss: 0.2244 - accuracy: 0.9212 - val_loss: 0.2603 - val_accuracy: 0.9147\n",
            "Epoch 3/3\n",
            "94/94 [==============================] - 936s 10s/step - loss: 0.1551 - accuracy: 0.9492 - val_loss: 0.2687 - val_accuracy: 0.9067\n"
          ],
          "name": "stdout"
        }
      ]
    },
    {
      "cell_type": "code",
      "metadata": {
        "id": "S3KrM3vnUaru",
        "colab_type": "code",
        "colab": {}
      },
      "source": [
        "test_pred = model.predict(test_input)\n",
        "train_pred = model.predict(train_input)"
      ],
      "execution_count": 0,
      "outputs": []
    },
    {
      "cell_type": "markdown",
      "metadata": {
        "id": "REaVYz4lNqpH",
        "colab_type": "text"
      },
      "source": [
        "After producing outputs, we're interested in seeing how well the model has done. So the following block defines a scoring function to output some metrics for both the training and test sets. Then a function for drawing a color map is defined."
      ]
    },
    {
      "cell_type": "code",
      "metadata": {
        "id": "l9C1RyC0mYLF",
        "colab_type": "code",
        "colab": {}
      },
      "source": [
        "from sklearn.metrics import accuracy_score, precision_score, recall_score, f1_score, roc_auc_score\n",
        "from sklearn.metrics import confusion_matrix\n",
        "import itertools\n",
        "from matplotlib import pyplot as plt\n",
        "plt.rcParams['figure.figsize'] = [10,10]\n",
        "\n",
        "\n",
        "def scoring(Ytrain, Ytrain_pred, Ytest, Ypred):\n",
        "    \n",
        "\n",
        "    acc_train = accuracy_score(Ytrain, Ytrain_pred)\n",
        "    prec_train = precision_score(Ytrain, Ytrain_pred)\n",
        "    rec_train = recall_score(Ytrain, Ytrain_pred)\n",
        "    f1_train = f1_score(Ytrain, Ytrain_pred)\n",
        "    \n",
        "    acc = accuracy_score(Ytest, Ypred)\n",
        "    prec = precision_score(Ytest, Ypred)\n",
        "    rec = recall_score(Ytest, Ypred)\n",
        "    f1 = f1_score(Ytest, Ypred)\n",
        "\n",
        "    scores = {'accuracy': acc,\n",
        "              'precision': prec,\n",
        "             'recall': rec,\n",
        "             'f1 score': f1}\n",
        "\n",
        "    scores_train = {'accuracy': acc_train,\n",
        "              'precision': prec_train,\n",
        "             'recall': rec_train,\n",
        "             'f1 score': f1_train}\n",
        "\n",
        "    print('Ytrain vs Ytrain_pred')\n",
        "    for metric in scores_train.keys():\n",
        "        print(f'{metric}: {scores_train[metric]:.2f}')\n",
        "    \n",
        "    print('\\nYtest vs Ypred')\n",
        "    for metric in scores.keys():\n",
        "        print(f'{metric}: {scores[metric]:.2f}')\n",
        "        \n",
        "\n",
        "\n",
        "def plot_confusion_matrix(cm, labels: list, normalize=False, title='Confusion Matrix', cmap=plt.cm.Oranges):\n",
        "    if normalize:\n",
        "        cm = cm.astype('float') / cm.sum(axis=1)[:, np.newaxis]\n",
        "    plt.figure(figsize=(10,10))\n",
        "    plt.imshow(cm, interpolation='nearest',cmap=cmap)\n",
        "    plt.title(title,size=24)\n",
        "    plt.colorbar(aspect=4)\n",
        "    tick_marks = np.arange(len(labels))\n",
        "    plt.xticks(tick_marks, labels, size=14)\n",
        "    plt.yticks(tick_marks, labels, size=14)\n",
        "    \n",
        "    fmt = '.2f' if normalize else 'd' # format of decimal precision to display\n",
        "    thresh = cm.max()/2 # threshold to change color of text depending on color of cell\n",
        "    for i,j in itertools.product(range(cm.shape[0]), range(cm.shape[1])): # realistically, cm.shape[0] = cm.shape[1] = len(labels)\n",
        "        plt.text(j, i, format(cm[i,j], fmt), fontsize=20, # i,j rev bc of diff btwn matrix and list of lists indexing\n",
        "                 horizontalalignment='center',\n",
        "                 color='white' if cm[i,j] > thresh else 'black') # if the cell color is too dark, make the text white\n",
        "    plt.grid(False)\n",
        "    plt.tight_layout()\n",
        "    plt.ylabel('True label', size=16)\n",
        "    plt.xlabel('Predicted label', size=16)"
      ],
      "execution_count": 0,
      "outputs": []
    },
    {
      "cell_type": "markdown",
      "metadata": {
        "id": "eBz9ku1hNuMX",
        "colab_type": "text"
      },
      "source": [
        "Now let's see the results."
      ]
    },
    {
      "cell_type": "code",
      "metadata": {
        "id": "YoE6nWXFquEK",
        "colab_type": "code",
        "outputId": "146f4197-73c3-4718-c35b-1cd0e0694c2b",
        "colab": {
          "base_uri": "https://localhost:8080/",
          "height": 759
        }
      },
      "source": [
        "round_train_pred = np.round(train_pred)\n",
        "round_test_pred = np.round(test_pred)\n",
        "scoring(train_labels, round_train_pred, test_labels, round_test_pred)\n",
        "cm = confusion_matrix(test_labels, round_test_pred)\n",
        "cm_labels = ['Not topic-related', 'Topic-related']\n",
        "plot_confusion_matrix(cm, cm_labels, normalize=False,title=f'BERT Confusion Matrix\\nn={len(test_labels)}')"
      ],
      "execution_count": 0,
      "outputs": [
        {
          "output_type": "stream",
          "text": [
            "Ytrain vs Ytrain_pred\n",
            "accuracy: 0.96\n",
            "precision: 0.98\n",
            "recall: 0.97\n",
            "f1 score: 0.97\n",
            "\n",
            "Ytest vs Ypred\n",
            "accuracy: 0.92\n",
            "precision: 0.94\n",
            "recall: 0.95\n",
            "f1 score: 0.94\n"
          ],
          "name": "stdout"
        },
        {
          "output_type": "display_data",
          "data": {
            "image/png": "[encoded data removed]",
            "text/plain": [
              "<Figure size 720x720 with 2 Axes>"
            ]
          },
          "metadata": {
            "tags": [],
            "needs_background": "light"
          }
        }
      ]
    }
  ]
}
