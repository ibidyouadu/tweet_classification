{
  "nbformat": 4,
  "nbformat_minor": 0,
  "metadata": {
    "kernelspec": {
      "display_name": "Python 3 (Spyder)",
      "language": "python3",
      "name": "python3"
    },
    "language_info": {
      "codemirror_mode": {
        "name": "ipython",
        "version": 3
      },
      "file_extension": ".py",
      "mimetype": "text/x-python",
      "name": "python",
      "nbconvert_exporter": "python",
      "pygments_lexer": "ipython3",
      "version": "3.7.6"
    },
    "colab": {
      "name": "tweet_classification.ipynb",
      "provenance": [],
      "toc_visible": true
    }
  },
  "cells": [
    {
      "cell_type": "markdown",
      "metadata": {
        "id": "CZsnbc0ABkQ_",
        "colab_type": "text"
      },
      "source": [
        "Only use the following cell if you need to install these packages. This was written for Google colab. The two cells following will import some essential packages and the data."
      ]
    },
    {
      "cell_type": "code",
      "metadata": {
        "id": "k5lrPQGT4Knd",
        "colab_type": "code",
        "outputId": "808defcd-eea0-4174-a54c-6cb40668d562",
        "colab": {
          "base_uri": "https://localhost:8080/",
          "height": 186
        }
      },
      "source": [
        "!pip install sentencepiece\n",
        "import nltk\n",
        "nltk.download('wordnet')"
      ],
      "execution_count": 1,
      "outputs": [
        {
          "output_type": "stream",
          "text": [
            "Collecting sentencepiece\n",
            "\u001b[?25l  Downloading https://files.pythonhosted.org/packages/98/2c/8df20f3ac6c22ac224fff307ebc102818206c53fc454ecd37d8ac2060df5/sentencepiece-0.1.86-cp36-cp36m-manylinux1_x86_64.whl (1.0MB)\n",
            "\u001b[K     |████████████████████████████████| 1.0MB 2.8MB/s \n",
            "\u001b[?25hInstalling collected packages: sentencepiece\n",
            "Successfully installed sentencepiece-0.1.86\n",
            "[nltk_data] Downloading package wordnet to /root/nltk_data...\n",
            "[nltk_data]   Unzipping corpora/wordnet.zip.\n"
          ],
          "name": "stdout"
        },
        {
          "output_type": "execute_result",
          "data": {
            "text/plain": [
              "True"
            ]
          },
          "metadata": {
            "tags": []
          },
          "execution_count": 1
        }
      ]
    },
    {
      "cell_type": "code",
      "metadata": {
        "id": "-VRiHSzbDyP7",
        "colab_type": "code",
        "colab": {}
      },
      "source": [
        "!wget --quiet https://raw.githubusercontent.com/tensorflow/models/master/official/nlp/bert/tokenization.py"
      ],
      "execution_count": 0,
      "outputs": []
    },
    {
      "cell_type": "code",
      "metadata": {
        "id": "ruIxdm1D3vcE",
        "colab_type": "code",
        "colab": {}
      },
      "source": [
        "import numpy as np\n",
        "import pandas as pd\n",
        "from sklearn.ensemble import RandomForestClassifier\n",
        "from sklearn.feature_extraction.text import CountVectorizer\n",
        "import tokenization\n",
        "from nltk.stem import WordNetLemmatizer\n",
        "import re\n",
        "\n",
        "data = pd.read_csv('irma_power_tweets.csv')"
      ],
      "execution_count": 0,
      "outputs": []
    },
    {
      "cell_type": "markdown",
      "metadata": {
        "id": "LtoY5IHd3vcP",
        "colab_type": "text"
      },
      "source": [
        "Let's define some functions for assessing the results later."
      ]
    },
    {
      "cell_type": "code",
      "metadata": {
        "id": "7RUZZy-P3vdG",
        "colab_type": "code",
        "colab": {}
      },
      "source": [
        "from sklearn.metrics import confusion_matrix\n",
        "from sklearn.metrics import accuracy_score, precision_score, recall_score, f1_score, roc_auc_score\n",
        "from sklearn.model_selection import train_test_split\n",
        "from matplotlib import pyplot as plt\n",
        "import itertools\n",
        "plt.rcParams['figure.figsize'] = [10,10]\n",
        "\n",
        "def plot_confusion_matrix(cm, labels: list, normalize=False, title='Confusion Matrix', cmap=plt.cm.Oranges):\n",
        "    if normalize:\n",
        "        cm = cm.astype('float') / cm.sum(axis=1)[:, np.newaxis]\n",
        "    plt.figure(figsize=(10,10))\n",
        "    plt.imshow(cm, interpolation='nearest',cmap=cmap)\n",
        "    plt.title(title,size=24)\n",
        "    plt.colorbar(aspect=4)\n",
        "    tick_marks = np.arange(len(labels))\n",
        "    plt.xticks(tick_marks, labels, size=14)\n",
        "    plt.yticks(tick_marks, labels, size=14)\n",
        "    \n",
        "    fmt = '.2f' if normalize else 'd' # format of decimal precision to display\n",
        "    thresh = cm.max()/2 # threshold to change color of text depending on color of cell\n",
        "    for i,j in itertools.product(range(cm.shape[0]), range(cm.shape[1])): # realistically, cm.shape[0] = cm.shape[1] = len(labels)\n",
        "        plt.text(j, i, format(cm[i,j], fmt), fontsize=20, # i,j rev bc of diff btwn matrix and list of lists indexing\n",
        "                 horizontalalignment='center',\n",
        "                 color='white' if cm[i,j] > thresh else 'black') # if the cell color is too dark, make the text white\n",
        "    plt.grid(False)\n",
        "    plt.tight_layout()\n",
        "    plt.ylabel('True label', size=16)\n",
        "    plt.xlabel('Predicted label', size=16)\n",
        "\n",
        "#rerun numbers wuth Ytrain and rf.predict(Xtrain)\n",
        "def scoring(Ytrain, Ytrain_pred, Ytest, Ypred, print_score=True):\n",
        "    \n",
        "\n",
        "    acc_train = accuracy_score(Ytrain, Ytrain_pred)\n",
        "    prec_train = precision_score(Ytrain, Ytrain_pred)\n",
        "    rec_train = recall_score(Ytrain, Ytrain_pred)\n",
        "    f1_train = f1_score(Ytrain, Ytrain_pred)\n",
        "    \n",
        "    acc = accuracy_score(Ytest, Ypred)\n",
        "    prec = precision_score(Ytest, Ypred)\n",
        "    rec = recall_score(Ytest, Ypred)\n",
        "    f1 = f1_score(Ytest, Ypred)\n",
        "\n",
        "    scores = {'accuracy': acc,\n",
        "              'precision': prec,\n",
        "             'recall': rec,\n",
        "             'f1 score': f1}\n",
        "\n",
        "    scores_train = {'accuracy': acc_train,\n",
        "              'precision': prec_train,\n",
        "             'recall': rec_train,\n",
        "             'f1 score': f1_train}\n",
        "             \n",
        "    if print_score:\n",
        "        print('Ytrain vs Ytrain_pred')\n",
        "        for metric in scores_train.keys():\n",
        "            print(f'{metric}: {scores_train[metric]:.2f}')\n",
        "        \n",
        "        print('Ytest vs Ypred')\n",
        "        for metric in scores.keys():\n",
        "            print(f'{metric}: {scores[metric]:.2f}')\n",
        "\n",
        "    return scores_train, scores"
      ],
      "execution_count": 0,
      "outputs": []
    },
    {
      "cell_type": "markdown",
      "metadata": {
        "id": "No3-GMAhCep_",
        "colab_type": "text"
      },
      "source": [
        "The following cell contains the preprocessing code. We define the neighborhood generating function. We also define a lemmatizer function that is used as part of the neighborhood generation."
      ]
    },
    {
      "cell_type": "code",
      "metadata": {
        "id": "o_Gcwbgx4iZR",
        "colab_type": "code",
        "colab": {}
      },
      "source": [
        "tokenizer = tokenization.BasicTokenizer()\n",
        "\n",
        "def lemmatize(x):\n",
        "  lemmatizer = WordNetLemmatizer()\n",
        "  return lemmatizer.lemmatize(lemmatizer.lemmatize(x,pos='v'))\n",
        "\n",
        "def neighborhood_generator(text,kwd,r):\n",
        "    parse_seq = r'[-_+<=>\\[\\]{}`&;\\/()#!@,.\\n?]|\\x80|\\:\\/\\/.*$'\n",
        "    split_tokens = text.lower().split()\n",
        "    kwd_idx = 0\n",
        "\n",
        "    def tok_process(tok): #remove special chars, apply basic BERT tokenizer, and lemmatize\n",
        "        parse_tok = re.sub(parse_seq, ' ', tok)\n",
        "        tok_tokens = tokenizer.tokenize(parse_tok) #tokens of the token!\n",
        "        tok_lemmatized_tokens = [lemmatize(tok_tok) for tok_tok in tok_tokens]\n",
        "        return tok_lemmatized_tokens\n",
        "\n",
        "    if kwd in split_tokens: #see if we can get away without going through the text processing\n",
        "        kwd_idx = [idx for idx in range(len(split_tokens)) if split_tokens[idx]==kwd][0]\n",
        "    else:\n",
        "        for idx in range(len(split_tokens)):\n",
        "            tok = split_tokens[idx]\n",
        "            tok_lemmatized_tokens = tok_process(tok)\n",
        "            if kwd in tok_lemmatized_tokens:\n",
        "                kwd_idx = idx\n",
        "                break\n",
        "                \n",
        "    # found the kwd, now find non-stopwords/length 1 words to form neighborhood\n",
        "    # idea: divide the split tokens into two groups: the tokens before kwd, and the tokens after kwd\n",
        "    # starting from the kwd, iterate thru the tokens backwards (before kwd list) or forwards (after kwd list)\n",
        "    # check if the word if a stop word or a special char\n",
        "    # if it isn't, have a counter increase by one. once that counter == radius, save the idx of that word and break\n",
        "    # then slice the string like usual\n",
        "\n",
        "    neighborhood_radius = r\n",
        "    before_kwd = split_tokens[:kwd_idx]\n",
        "    after_kwd = split_tokens[kwd_idx+1:]\n",
        "\n",
        "    before_idx = [idx for idx in range(kwd_idx)][::-1]\n",
        "    after_idx = [idx for idx in range(kwd_idx+1,len(split_tokens))]\n",
        "    start_tok_idx = 0 #if search extends beyond startin index, use the first token\n",
        "    end_tok_idx = len(split_tokens) #if search extends beyond last index, use the last index\n",
        "    before_sig_toks = 0\n",
        "    after_sig_toks = 0\n",
        "\n",
        "    for idx in before_idx:\n",
        "        tok = split_tokens[idx]\n",
        "        tok_lemmatized_tokens = tok_process(tok)\n",
        "        if len(tok_lemmatized_tokens) > 0: # significant token\n",
        "            before_sig_toks += 1\n",
        "            if before_sig_toks == neighborhood_radius:\n",
        "                start_tok_idx = idx\n",
        "                break\n",
        "    \n",
        "    for idx in after_idx:\n",
        "        tok = split_tokens[idx]\n",
        "        tok_lemmatized_tokens = tok_process(tok)\n",
        "        if len(tok_lemmatized_tokens) > 0:\n",
        "            after_sig_toks += 1\n",
        "            if after_sig_toks == neighborhood_radius:\n",
        "                end_tok_idx = idx\n",
        "                break\n",
        "\n",
        "    neighborhood = split_tokens[start_tok_idx:end_tok_idx+1]\n",
        "    neighborhood = ' '.join(neighborhood)\n",
        "    \n",
        "    return neighborhood"
      ],
      "execution_count": 0,
      "outputs": []
    },
    {
      "cell_type": "markdown",
      "metadata": {
        "id": "xtIBcezxDuEG",
        "colab_type": "text"
      },
      "source": [
        "The following cell defines a routine that goes through the whole process cleaning the data, generating neighborhoods, and using cross validation to find an optimal random forest model. The given inputs are the data (as a whole dataframe), the neighborhood radius, the maximum number of features to use in the count vectorizer, the size of n-grams used in the count vectorizer, a count of incorrectly labelled tweets (used for hyperparameter tuning -- see the cell after), and a yes/no to return the best model, which will also output the results of that model. "
      ]
    },
    {
      "cell_type": "code",
      "metadata": {
        "id": "Wx8XyJJ43vcQ",
        "colab_type": "code",
        "colab": {}
      },
      "source": [
        "from sklearn.model_selection import RandomizedSearchCV\n",
        "\n",
        "def rf_neighborhood_method(data, r, max_ft, ngram_size, min_wrong=1000, return_model=False): # set return_model=True to have the fxn return the best RF model \n",
        "\n",
        "    town = pd.DataFrame(columns=['text']) # a town is a collection of neighborhoods\n",
        "    neighborhood_vals = []\n",
        "\n",
        "    for idx in data.index:\n",
        "        row = data.iloc[idx]\n",
        "        text = row.text\n",
        "        kwd = row.kwd\n",
        "        new_row = neighborhood_generator(text,kwd,r)\n",
        "        neighborhood_vals.append(new_row)\n",
        "    town.text = neighborhood_vals\n",
        "\n",
        "    cv = CountVectorizer(list(town.text.values),\n",
        "                        max_features=max_ft,\n",
        "                        ngram_range=ngram_size,\n",
        "                        min_df=10,\n",
        "                        stop_words='english')\n",
        "    \n",
        "    count_vect = cv.fit_transform(list(town.text.values))\n",
        "\n",
        "    table = count_vect.toarray() #reminder: this lists each twt as a vect\n",
        "    features = cv.get_feature_names()\n",
        "    df = pd.DataFrame(table, columns=features)\n",
        "    df['topic_related'] = data.topic_related\n",
        "\n",
        "    # Define a grid of parameters for CV\n",
        "    n_estimators = [int(x) for x in np.linspace(start = 100, stop = 200, num = 2)]\n",
        "    max_features = ['auto', 'sqrt'] \n",
        "    max_depth = [int(x) for x in np.linspace(0, max_ft, num = 5) if x>0]\n",
        "    max_depth.append(None)\n",
        "    min_samples_split = [2, 3, 4]\n",
        "    min_samples_leaf = [1, 2, 3]\n",
        "    bootstrap = [True, False]\n",
        "\n",
        "    random_grid = {'n_estimators': n_estimators,\n",
        "                'max_features': max_features,\n",
        "                'max_depth': max_depth,\n",
        "                'min_samples_split': min_samples_split,\n",
        "                'min_samples_leaf': min_samples_leaf,\n",
        "                'bootstrap': bootstrap}\n",
        "\n",
        "    Xtrain, Xtest, Ytrain, Ytest = train_test_split(df[features],\n",
        "                                                    df['topic_related'],\n",
        "                                                    test_size=0.2,\n",
        "                                                    random_state=25\n",
        "                                                    )\n",
        "\n",
        "    rf = RandomForestClassifier()\n",
        "    rf_random = RandomizedSearchCV(estimator=rf,\n",
        "                                param_distributions=random_grid,\n",
        "                                n_iter=100,\n",
        "                                cv=5,\n",
        "                                verbose=1,\n",
        "                                random_state=25,\n",
        "                                n_jobs=-1)\n",
        "    rf_random.fit(Xtrain, Ytrain)\n",
        "    rf_best = rf_random.best_estimator_\n",
        "\n",
        "    Ytrain_pred = rf_best.predict(Xtrain)\n",
        "    Ypred = rf_best.predict(Xtest)\n",
        "    train_scores_dict, scores_dict = scoring(Ytrain, Ytrain_pred, Ytest, Ypred, print_score=False)\n",
        "    train_scores = np.array(list(train_scores_dict.values()))\n",
        "    scores = np.array(list(scores_dict.values()))\n",
        "    \n",
        "    if return_model:\n",
        "        scoring(Ytrain, Ytrain_pred, Ytest, Ypred, print_score=True)\n",
        "        cm = confusion_matrix(Ytest, Ypred)\n",
        "        cm_labels = ['Not topic-related', 'Topic-related']\n",
        "        plot_confusion_matrix(cm, cm_labels, title='Random Forest Confusion Matrix')\n",
        "        return rf_best\n",
        "    else:\n",
        "        train_test_err = np.sum(np.abs(train_scores-scores)) # <= 0.1:  no overfitting\n",
        "        wrong_count = np.sum(Ytest!=Ypred)\n",
        "        if wrong_count <= min_wrong and train_test_err <= 0.1:\n",
        "            min_params = {'r': r,\n",
        "                        'max_ft': max_ft,\n",
        "                        'ngram_size': ngram_size}\n",
        "            return (wrong_count, min_params) #save results as a list of 2-tuples\n",
        "        else:\n",
        "            return 'nothing new'"
      ],
      "execution_count": 0,
      "outputs": []
    },
    {
      "cell_type": "markdown",
      "metadata": {
        "id": "polSEWm5Ffvo",
        "colab_type": "text"
      },
      "source": [
        "The following cell is for tuning parameters of the count vectorizer, namely the number of count vectorizer features and size of n-grams. r_vals can be set to a single radius value to search for the best parameters of a particular radius. With a little bit of work, this code cell and the previous cell can be rewritten so that r_vals can be a list of radii and the output will be a list of optimal parameters for each radius. Otherwise I just run individual notebooks in parallel for each radius."
      ]
    },
    {
      "cell_type": "code",
      "metadata": {
        "id": "n0wXsorh9j_G",
        "colab_type": "code",
        "outputId": "263dd3eb-9c12-4a23-a761-d7b263178ad5",
        "colab": {
          "base_uri": "https://localhost:8080/",
          "height": 1000
        }
      },
      "source": [
        "r_vals = [1,2,3]\n",
        "max_ft_vals = [100, 150, 200]\n",
        "ngram_size_vals = [(1,1), (1,2), (2,2), (1,3)]\n",
        "\n",
        "results = []\n",
        "min_wrong = 1000\n",
        "for r in r_vals:\n",
        "    for max_ft in max_ft_vals:\n",
        "        for ngram_size in ngram_size_vals:\n",
        "            new_results = rf_neighborhood_method(data, r, max_ft, ngram_size, min_wrong)\n",
        "            params = [r, max_ft, ngram_size]\n",
        "            params = ' '.join([str(x) for x in params])\n",
        "            if new_results == 'nothing new':\n",
        "                print('nothing new: ' + params)\n",
        "            else:\n",
        "                results.append(new_results)\n",
        "                min_wrong = new_results[0]\n",
        "                print('something new: ' + params)"
      ],
      "execution_count": 0,
      "outputs": [
        {
          "output_type": "stream",
          "text": [
            "Fitting 5 folds for each of 100 candidates, totalling 500 fits\n"
          ],
          "name": "stdout"
        },
        {
          "output_type": "stream",
          "text": [
            "[Parallel(n_jobs=-1)]: Using backend LokyBackend with 2 concurrent workers.\n",
            "[Parallel(n_jobs=-1)]: Done  46 tasks      | elapsed:   16.3s\n",
            "[Parallel(n_jobs=-1)]: Done 196 tasks      | elapsed:  1.2min\n",
            "[Parallel(n_jobs=-1)]: Done 446 tasks      | elapsed:  2.7min\n",
            "[Parallel(n_jobs=-1)]: Done 500 out of 500 | elapsed:  3.0min finished\n"
          ],
          "name": "stderr"
        },
        {
          "output_type": "stream",
          "text": [
            "something new: 5 100 (1, 1)\n",
            "Fitting 5 folds for each of 100 candidates, totalling 500 fits\n"
          ],
          "name": "stdout"
        },
        {
          "output_type": "stream",
          "text": [
            "[Parallel(n_jobs=-1)]: Using backend LokyBackend with 2 concurrent workers.\n",
            "[Parallel(n_jobs=-1)]: Done  46 tasks      | elapsed:   15.5s\n",
            "[Parallel(n_jobs=-1)]: Done 196 tasks      | elapsed:  1.1min\n",
            "[Parallel(n_jobs=-1)]: Done 446 tasks      | elapsed:  2.5min\n",
            "[Parallel(n_jobs=-1)]: Done 500 out of 500 | elapsed:  2.8min finished\n"
          ],
          "name": "stderr"
        },
        {
          "output_type": "stream",
          "text": [
            "nothing new: 5 100 (1, 2)\n",
            "Fitting 5 folds for each of 100 candidates, totalling 500 fits\n"
          ],
          "name": "stdout"
        },
        {
          "output_type": "stream",
          "text": [
            "[Parallel(n_jobs=-1)]: Using backend LokyBackend with 2 concurrent workers.\n",
            "[Parallel(n_jobs=-1)]: Done  46 tasks      | elapsed:   14.0s\n",
            "[Parallel(n_jobs=-1)]: Done 196 tasks      | elapsed:  1.0min\n",
            "[Parallel(n_jobs=-1)]: Done 446 tasks      | elapsed:  2.3min\n",
            "[Parallel(n_jobs=-1)]: Done 500 out of 500 | elapsed:  2.6min finished\n"
          ],
          "name": "stderr"
        },
        {
          "output_type": "stream",
          "text": [
            "nothing new: 5 100 (2, 2)\n",
            "Fitting 5 folds for each of 100 candidates, totalling 500 fits\n"
          ],
          "name": "stdout"
        },
        {
          "output_type": "stream",
          "text": [
            "[Parallel(n_jobs=-1)]: Using backend LokyBackend with 2 concurrent workers.\n",
            "[Parallel(n_jobs=-1)]: Done  46 tasks      | elapsed:   15.4s\n",
            "[Parallel(n_jobs=-1)]: Done 196 tasks      | elapsed:  1.1min\n",
            "[Parallel(n_jobs=-1)]: Done 446 tasks      | elapsed:  2.5min\n",
            "[Parallel(n_jobs=-1)]: Done 500 out of 500 | elapsed:  2.8min finished\n"
          ],
          "name": "stderr"
        },
        {
          "output_type": "stream",
          "text": [
            "nothing new: 5 100 (1, 3)\n",
            "Fitting 5 folds for each of 100 candidates, totalling 500 fits\n"
          ],
          "name": "stdout"
        },
        {
          "output_type": "stream",
          "text": [
            "[Parallel(n_jobs=-1)]: Using backend LokyBackend with 2 concurrent workers.\n",
            "[Parallel(n_jobs=-1)]: Done  46 tasks      | elapsed:   19.3s\n",
            "[Parallel(n_jobs=-1)]: Done 196 tasks      | elapsed:  1.4min\n",
            "[Parallel(n_jobs=-1)]: Done 446 tasks      | elapsed:  3.2min\n",
            "[Parallel(n_jobs=-1)]: Done 500 out of 500 | elapsed:  3.6min finished\n"
          ],
          "name": "stderr"
        },
        {
          "output_type": "stream",
          "text": [
            "something new: 5 150 (1, 1)\n",
            "Fitting 5 folds for each of 100 candidates, totalling 500 fits\n"
          ],
          "name": "stdout"
        },
        {
          "output_type": "stream",
          "text": [
            "[Parallel(n_jobs=-1)]: Using backend LokyBackend with 2 concurrent workers.\n",
            "[Parallel(n_jobs=-1)]: Done  46 tasks      | elapsed:   18.1s\n",
            "[Parallel(n_jobs=-1)]: Done 196 tasks      | elapsed:  1.3min\n",
            "[Parallel(n_jobs=-1)]: Done 446 tasks      | elapsed:  3.0min\n",
            "[Parallel(n_jobs=-1)]: Done 500 out of 500 | elapsed:  3.4min finished\n"
          ],
          "name": "stderr"
        },
        {
          "output_type": "stream",
          "text": [
            "nothing new: 5 150 (1, 2)\n",
            "Fitting 5 folds for each of 100 candidates, totalling 500 fits\n"
          ],
          "name": "stdout"
        },
        {
          "output_type": "stream",
          "text": [
            "[Parallel(n_jobs=-1)]: Using backend LokyBackend with 2 concurrent workers.\n",
            "[Parallel(n_jobs=-1)]: Done  46 tasks      | elapsed:   14.1s\n",
            "[Parallel(n_jobs=-1)]: Done 196 tasks      | elapsed:  1.0min\n",
            "[Parallel(n_jobs=-1)]: Done 446 tasks      | elapsed:  2.3min\n",
            "[Parallel(n_jobs=-1)]: Done 500 out of 500 | elapsed:  2.6min finished\n"
          ],
          "name": "stderr"
        },
        {
          "output_type": "stream",
          "text": [
            "nothing new: 5 150 (2, 2)\n",
            "Fitting 5 folds for each of 100 candidates, totalling 500 fits\n"
          ],
          "name": "stdout"
        },
        {
          "output_type": "stream",
          "text": [
            "[Parallel(n_jobs=-1)]: Using backend LokyBackend with 2 concurrent workers.\n",
            "[Parallel(n_jobs=-1)]: Done  46 tasks      | elapsed:   18.0s\n",
            "[Parallel(n_jobs=-1)]: Done 196 tasks      | elapsed:  1.3min\n",
            "[Parallel(n_jobs=-1)]: Done 446 tasks      | elapsed:  3.0min\n",
            "[Parallel(n_jobs=-1)]: Done 500 out of 500 | elapsed:  3.4min finished\n"
          ],
          "name": "stderr"
        },
        {
          "output_type": "stream",
          "text": [
            "nothing new: 5 150 (1, 3)\n",
            "Fitting 5 folds for each of 100 candidates, totalling 500 fits\n"
          ],
          "name": "stdout"
        },
        {
          "output_type": "stream",
          "text": [
            "[Parallel(n_jobs=-1)]: Using backend LokyBackend with 2 concurrent workers.\n",
            "[Parallel(n_jobs=-1)]: Done  46 tasks      | elapsed:   19.9s\n",
            "[Parallel(n_jobs=-1)]: Done 196 tasks      | elapsed:  1.5min\n",
            "[Parallel(n_jobs=-1)]: Done 446 tasks      | elapsed:  3.4min\n",
            "[Parallel(n_jobs=-1)]: Done 500 out of 500 | elapsed:  3.8min finished\n"
          ],
          "name": "stderr"
        },
        {
          "output_type": "stream",
          "text": [
            "nothing new: 5 200 (1, 1)\n",
            "Fitting 5 folds for each of 100 candidates, totalling 500 fits\n"
          ],
          "name": "stdout"
        },
        {
          "output_type": "stream",
          "text": [
            "[Parallel(n_jobs=-1)]: Using backend LokyBackend with 2 concurrent workers.\n",
            "[Parallel(n_jobs=-1)]: Done  46 tasks      | elapsed:   20.8s\n",
            "[Parallel(n_jobs=-1)]: Done 196 tasks      | elapsed:  1.6min\n",
            "[Parallel(n_jobs=-1)]: Done 446 tasks      | elapsed:  3.5min\n",
            "[Parallel(n_jobs=-1)]: Done 500 out of 500 | elapsed:  4.0min finished\n"
          ],
          "name": "stderr"
        },
        {
          "output_type": "stream",
          "text": [
            "nothing new: 5 200 (1, 2)\n",
            "Fitting 5 folds for each of 100 candidates, totalling 500 fits\n"
          ],
          "name": "stdout"
        },
        {
          "output_type": "stream",
          "text": [
            "[Parallel(n_jobs=-1)]: Using backend LokyBackend with 2 concurrent workers.\n",
            "[Parallel(n_jobs=-1)]: Done  46 tasks      | elapsed:   14.1s\n",
            "[Parallel(n_jobs=-1)]: Done 196 tasks      | elapsed:  1.0min\n",
            "[Parallel(n_jobs=-1)]: Done 446 tasks      | elapsed:  2.4min\n",
            "[Parallel(n_jobs=-1)]: Done 500 out of 500 | elapsed:  2.6min finished\n"
          ],
          "name": "stderr"
        },
        {
          "output_type": "stream",
          "text": [
            "nothing new: 5 200 (2, 2)\n",
            "Fitting 5 folds for each of 100 candidates, totalling 500 fits\n"
          ],
          "name": "stdout"
        },
        {
          "output_type": "stream",
          "text": [
            "[Parallel(n_jobs=-1)]: Using backend LokyBackend with 2 concurrent workers.\n",
            "[Parallel(n_jobs=-1)]: Done  46 tasks      | elapsed:   20.6s\n",
            "[Parallel(n_jobs=-1)]: Done 196 tasks      | elapsed:  1.6min\n",
            "[Parallel(n_jobs=-1)]: Done 446 tasks      | elapsed:  3.6min\n",
            "[Parallel(n_jobs=-1)]: Done 500 out of 500 | elapsed:  4.0min finished\n"
          ],
          "name": "stderr"
        },
        {
          "output_type": "stream",
          "text": [
            "nothing new: 5 200 (1, 3)\n"
          ],
          "name": "stdout"
        }
      ]
    },
    {
      "cell_type": "markdown",
      "metadata": {
        "id": "EftSIKFp8EVu",
        "colab_type": "text"
      },
      "source": [
        "The last element in ```results``` should have the optimal parameters, which you can then run a cross validation for the random forest: \n",
        "\n"
      ]
    },
    {
      "cell_type": "code",
      "metadata": {
        "id": "D7rC7atG3vdW",
        "colab_type": "code",
        "outputId": "c4e1b5df-aa25-42d4-941b-4e8aa5769123",
        "colab": {
          "base_uri": "https://localhost:8080/",
          "height": 833
        }
      },
      "source": [
        "rf = rf_neighborhood_method(data, max_ft=150, ngram_size=(1,1), r=5, return_model=True)"
      ],
      "execution_count": 0,
      "outputs": [
        {
          "output_type": "stream",
          "text": [
            "Fitting 5 folds for each of 100 candidates, totalling 500 fits\n"
          ],
          "name": "stdout"
        },
        {
          "output_type": "stream",
          "text": [
            "[Parallel(n_jobs=-1)]: Using backend LokyBackend with 2 concurrent workers.\n",
            "[Parallel(n_jobs=-1)]: Done  46 tasks      | elapsed:   20.7s\n",
            "[Parallel(n_jobs=-1)]: Done 196 tasks      | elapsed:  1.6min\n",
            "[Parallel(n_jobs=-1)]: Done 446 tasks      | elapsed:  3.4min\n",
            "[Parallel(n_jobs=-1)]: Done 500 out of 500 | elapsed:  3.8min finished\n"
          ],
          "name": "stderr"
        },
        {
          "output_type": "stream",
          "text": [
            "Ytrain vs Ytrain_pred\n",
            "accuracy: 0.88\n",
            "precision: 0.86\n",
            "recall: 0.99\n",
            "f1 score: 0.92\n",
            "Ytest vs Ypred\n",
            "accuracy: 0.85\n",
            "precision: 0.84\n",
            "recall: 0.97\n",
            "f1 score: 0.90\n"
          ],
          "name": "stdout"
        },
        {
          "output_type": "display_data",
          "data": {
            "image/png": "[encoded data removed]",
            "text/plain": [
              "<Figure size 720x720 with 2 Axes>"
            ]
          },
          "metadata": {
            "tags": [],
            "needs_background": "light"
          }
        }
      ]
    }
  ]
}